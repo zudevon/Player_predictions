{
 "cells": [
  {
   "cell_type": "markdown",
   "metadata": {},
   "source": [
    "# Come up with function to expand zones"
   ]
  },
  {
   "cell_type": "code",
   "execution_count": 1,
   "metadata": {},
   "outputs": [],
   "source": [
    "triangle1 = [[0,0],[0,1],[1,0]]\n",
    "triangle2 = [[0,0],[1,1],[1,0]]\n"
   ]
  },
  {
   "cell_type": "code",
   "execution_count": 18,
   "metadata": {},
   "outputs": [],
   "source": [
    "from sklearn.cluster import KMeans\n",
    "from sklearn.metrics import silhouette_score\n",
    "import numpy as np\n",
    "import math\n",
    "\n",
    "kmeans = KMeans(n_clusters=1)\n",
    "kmeans = kmeans.fit(triangle2)\n",
    "centroid = kmeans.cluster_centers_\n",
    "\n",
    "centroid[0][1]\n",
    "\n",
    "def polar(x, y):\n",
    "    \"\"\"returns r, theta(degrees)\n",
    "    \"\"\"\n",
    "    r = (x ** 2 + y ** 2) ** .5\n",
    "    if y == 0:\n",
    "        theta = 180 if x < 0 else 0\n",
    "    elif x == 0:\n",
    "        theta = 90 if y > 0 else 270\n",
    "    else:\n",
    "        theta = math.degrees(math.atan(float(y) / x)) \n",
    "    return r, theta"
   ]
  },
  {
   "cell_type": "code",
   "execution_count": 37,
   "metadata": {},
   "outputs": [
    {
     "name": "stdout",
     "output_type": "stream",
     "text": [
      "[0, 0] pair(xy)\n",
      "0.6666666666666666 0.33333333333333337 new(x,y)\n",
      "r = 0.7453559924999299\n",
      "a (new y) =  -1.227552307393523 \n",
      "\n",
      "b (new x) =  1.240718692197491 \n",
      "\n",
      "c =  1.7453559924999298 \n",
      "\n",
      "theta =  206.565051177078 \n",
      "\n",
      "\n",
      "\n",
      "[1, 1] pair(xy)\n",
      "-0.33333333333333337 -0.6666666666666666 new(x,y)\n",
      "r = 0.7453559924999299\n",
      "a (new y) =  0.989956838383058 \n",
      "\n",
      "b (new x) =  1.437446694209575 \n",
      "\n",
      "c =  1.7453559924999298 \n",
      "\n",
      "theta =  63.43494882292201 \n",
      "\n",
      "\n",
      "\n",
      "[1, 0] pair(xy)\n",
      "-0.33333333333333337 0.33333333333333337 new(x,y)\n",
      "r = 0.47140452079103173\n",
      "a (new y) =  1.0963924540615568 \n",
      "\n",
      "b (new x) =  0.9813026294070362 \n",
      "\n",
      "c =  1.4714045207910318 \n",
      "\n",
      "theta =  315.0 \n",
      "\n",
      "\n",
      "\n"
     ]
    }
   ],
   "source": [
    "for x in triangle2:\n",
    "    print(x,'pair(xy)')\n",
    "    new_x = centroid[0][0]-x[0]\n",
    "    new_y = centroid[0][1]-x[1]\n",
    "    \n",
    "    print(new_x, new_y, 'new(x,y)')\n",
    "    \n",
    "    r, theta = polar(new_x,new_y)\n",
    "    \n",
    "    print('r =',r)\n",
    "    \n",
    "    if new_y < 0:\n",
    "        if new_x >0:\n",
    "            theta += 180\n",
    "        else:\n",
    "            theta += 0\n",
    "    else:\n",
    "        if new_x < 0:\n",
    "            theta += 360\n",
    "        else:\n",
    "            theta += 180\n",
    "            \n",
    "    c = r + 1\n",
    "    a = c * math.sin(theta)\n",
    "    b = math.sqrt((c**2)-(a**2))\n",
    "    \n",
    "    print('a (new y) = ',a,'\\n')\n",
    "    print('b (new x) = ',b,'\\n')\n",
    "    print('c = ',c,'\\n')\n",
    "    print('theta = ',theta, '\\n')\n",
    "    print('\\n')"
   ]
  },
  {
   "cell_type": "markdown",
   "metadata": {},
   "source": [
    "# Using Clipper to expand"
   ]
  },
  {
   "cell_type": "code",
   "execution_count": 49,
   "metadata": {},
   "outputs": [
    {
     "name": "stdout",
     "output_type": "stream",
     "text": [
      "[[[6, -2], [6, 4], [0, 7], [-6, 1], [-3, -5], [3, -5]]]\n"
     ]
    }
   ],
   "source": [
    "import pyclipper\n",
    "\n",
    "subj = ((0,0),(1,0),(1,1))\n",
    "\n",
    "pco = pyclipper.Pyclipper()\n",
    "pco.AddPath(subj, )\n",
    "\n",
    "solution = pco.Execute(5.0)\n",
    "\n",
    "print(solution)"
   ]
  },
  {
   "cell_type": "markdown",
   "metadata": {},
   "source": [
    "# Using shapely to expand"
   ]
  },
  {
   "cell_type": "code",
   "execution_count": 147,
   "metadata": {},
   "outputs": [
    {
     "data": {
      "image/png": "[encoded data removed]",
      "text/plain": [
       "<Figure size 540x360 with 1 Axes>"
      ]
     },
     "metadata": {},
     "output_type": "display_data"
    }
   ],
   "source": [
    "from matplotlib import pyplot\n",
    "from shapely.geometry import LinearRing, LineString\n",
    "from descartes import PolygonPatch\n",
    "\n",
    "def plot_coords(ax, x, y, color='#999999', zorder=1):\n",
    "    ax.plot(x, y, 'o', color=color, zorder=zorder)\n",
    "\n",
    "def plot_line(ax, ob,):\n",
    "    parts = hasattr(ob, 'geoms') and ob or [ob]\n",
    "    for part in parts:\n",
    "        x, y = part.xy\n",
    "        ax.plot(x, y, linewidth=3, solid_capstyle='round', zorder=1)\n",
    "\n",
    "def set_limits(ax, x_range, y_range):\n",
    "    ax.set_xlim(*x_range)\n",
    "    ax.set_ylim(*y_range)\n",
    "    ax.set_aspect(1)\n",
    "\n",
    "\n",
    "ax = fig.add_subplot(121)\n",
    "ring1 = LinearRing([(0, 0), (0, 2), (1, 1), (2, 2), (2, 0), (1, 0.8), (0, 0),(0,2)])\n",
    "fig = pyplot.figure(1, dpi=90)\n",
    "\n",
    "ax = fig.add_subplot(222)\n",
    "\n",
    "plot_line(ax, ring1)\n",
    "\n",
    "offset = ring1.parallel_offset(0.5, 'left', join_style=2, mitre_limit=10.0)\n",
    "plot_line(ax, offset)\n",
    "set_limits(ax, ax_range, ay_range)\n",
    "#offset.coords"
   ]
  },
  {
   "cell_type": "code",
   "execution_count": null,
   "metadata": {},
   "outputs": [],
   "source": []
  }
 ],
 "metadata": {
  "kernelspec": {
   "display_name": "Python 3",
   "language": "python",
   "name": "python3"
  },
  "language_info": {
   "codemirror_mode": {
    "name": "ipython",
    "version": 3
   },
   "file_extension": ".py",
   "mimetype": "text/x-python",
   "name": "python",
   "nbconvert_exporter": "python",
   "pygments_lexer": "ipython3",
   "version": "3.6.2"
  }
 },
 "nbformat": 4,
 "nbformat_minor": 2
}
