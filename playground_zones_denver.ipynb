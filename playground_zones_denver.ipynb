{
 "cells": [
  {
   "cell_type": "markdown",
   "metadata": {},
   "source": [
    "# Come up with function to expand zones"
   ]
  },
  {
   "cell_type": "code",
   "execution_count": 1,
   "metadata": {},
   "outputs": [],
   "source": [
    "triangle1 = [[0,0],[0,1],[1,0]]\n",
    "triangle2 = [[0,0],[1,1],[1,0]]\n"
   ]
  },
  {
   "cell_type": "code",
   "execution_count": 2,
   "metadata": {},
   "outputs": [],
   "source": [
    "from sklearn.cluster import KMeans\n",
    "from sklearn.metrics import silhouette_score\n",
    "import numpy as np\n",
    "import math\n",
    "\n",
    "kmeans = KMeans(n_clusters=1)\n",
    "kmeans = kmeans.fit(triangle2)\n",
    "centroid = kmeans.cluster_centers_\n",
    "\n",
    "centroid[0][1]\n",
    "\n",
    "def polar(x, y):\n",
    "    \"\"\"returns r, theta(degrees)\n",
    "    \"\"\"\n",
    "    r = (x ** 2 + y ** 2) ** .5\n",
    "    if y == 0:\n",
    "        theta = 180 if x < 0 else 0\n",
    "    elif x == 0:\n",
    "        theta = 90 if y > 0 else 270\n",
    "    else:\n",
    "        theta = math.degrees(math.atan(float(y) / x)) \n",
    "    return r, theta"
   ]
  },
  {
   "cell_type": "code",
   "execution_count": 3,
   "metadata": {},
   "outputs": [
    {
     "name": "stdout",
     "output_type": "stream",
     "text": [
      "[0, 0] pair(xy)\n",
      "0.6666666666666666 0.33333333333333337 new(x,y)\n",
      "r = 0.7453559924999299\n",
      "a (new y) =  -1.227552307393523 \n",
      "\n",
      "b (new x) =  1.240718692197491 \n",
      "\n",
      "c =  1.7453559924999298 \n",
      "\n",
      "theta =  206.565051177078 \n",
      "\n",
      "\n",
      "\n",
      "[1, 1] pair(xy)\n",
      "-0.33333333333333337 -0.6666666666666666 new(x,y)\n",
      "r = 0.7453559924999299\n",
      "a (new y) =  0.989956838383058 \n",
      "\n",
      "b (new x) =  1.437446694209575 \n",
      "\n",
      "c =  1.7453559924999298 \n",
      "\n",
      "theta =  63.43494882292201 \n",
      "\n",
      "\n",
      "\n",
      "[1, 0] pair(xy)\n",
      "-0.33333333333333337 0.33333333333333337 new(x,y)\n",
      "r = 0.47140452079103173\n",
      "a (new y) =  1.0963924540615568 \n",
      "\n",
      "b (new x) =  0.9813026294070362 \n",
      "\n",
      "c =  1.4714045207910318 \n",
      "\n",
      "theta =  315.0 \n",
      "\n",
      "\n",
      "\n"
     ]
    }
   ],
   "source": [
    "for x in triangle2:\n",
    "    print(x,'pair(xy)')\n",
    "    new_x = centroid[0][0]-x[0]\n",
    "    new_y = centroid[0][1]-x[1]\n",
    "    \n",
    "    print(new_x, new_y, 'new(x,y)')\n",
    "    \n",
    "    r, theta = polar(new_x,new_y)\n",
    "    \n",
    "    print('r =',r)\n",
    "    \n",
    "    if new_y < 0:\n",
    "        if new_x >0:\n",
    "            theta += 180\n",
    "        else:\n",
    "            theta += 0\n",
    "    else:\n",
    "        if new_x < 0:\n",
    "            theta += 360\n",
    "        else:\n",
    "            theta += 180\n",
    "            \n",
    "    c = r + 1\n",
    "    a = c * math.sin(theta)\n",
    "    b = math.sqrt((c**2)-(a**2))\n",
    "    \n",
    "    print('a (new y) = ',a,'\\n')\n",
    "    print('b (new x) = ',b,'\\n')\n",
    "    print('c = ',c,'\\n')\n",
    "    print('theta = ',theta, '\\n')\n",
    "    print('\\n')"
   ]
  },
  {
   "cell_type": "markdown",
   "metadata": {},
   "source": [
    "# Using Clipper to expand"
   ]
  },
  {
   "cell_type": "code",
   "execution_count": 4,
   "metadata": {},
   "outputs": [
    {
     "ename": "TypeError",
     "evalue": "AddPath() takes at least 2 positional arguments (1 given)",
     "output_type": "error",
     "traceback": [
      "\u001b[0;31m---------------------------------------------------------------------------\u001b[0m",
      "\u001b[0;31mTypeError\u001b[0m                                 Traceback (most recent call last)",
      "\u001b[0;32m<ipython-input-4-9f649d311ed5>\u001b[0m in \u001b[0;36m<module>\u001b[0;34m()\u001b[0m\n\u001b[1;32m      4\u001b[0m \u001b[0;34m\u001b[0m\u001b[0m\n\u001b[1;32m      5\u001b[0m \u001b[0mpco\u001b[0m \u001b[0;34m=\u001b[0m \u001b[0mpyclipper\u001b[0m\u001b[0;34m.\u001b[0m\u001b[0mPyclipper\u001b[0m\u001b[0;34m(\u001b[0m\u001b[0;34m)\u001b[0m\u001b[0;34m\u001b[0m\u001b[0m\n\u001b[0;32m----> 6\u001b[0;31m \u001b[0mpco\u001b[0m\u001b[0;34m.\u001b[0m\u001b[0mAddPath\u001b[0m\u001b[0;34m(\u001b[0m\u001b[0msubj\u001b[0m\u001b[0;34m,\u001b[0m \u001b[0;34m)\u001b[0m\u001b[0;34m\u001b[0m\u001b[0m\n\u001b[0m\u001b[1;32m      7\u001b[0m \u001b[0;34m\u001b[0m\u001b[0m\n\u001b[1;32m      8\u001b[0m \u001b[0msolution\u001b[0m \u001b[0;34m=\u001b[0m \u001b[0mpco\u001b[0m\u001b[0;34m.\u001b[0m\u001b[0mExecute\u001b[0m\u001b[0;34m(\u001b[0m\u001b[0;36m5.0\u001b[0m\u001b[0;34m)\u001b[0m\u001b[0;34m\u001b[0m\u001b[0m\n",
      "\u001b[0;32mpyclipper/pyclipper.pyx\u001b[0m in \u001b[0;36mpyclipper.Pyclipper.AddPath\u001b[0;34m()\u001b[0m\n",
      "\u001b[0;31mTypeError\u001b[0m: AddPath() takes at least 2 positional arguments (1 given)"
     ]
    }
   ],
   "source": [
    "import pyclipper\n",
    "\n",
    "subj = ((0,0),(1,0),(1,1))\n",
    "\n",
    "pco = pyclipper.Pyclipper()\n",
    "pco.AddPath(subj, )\n",
    "\n",
    "solution = pco.Execute(5.0)\n",
    "\n",
    "print(solution)"
   ]
  },
  {
   "cell_type": "markdown",
   "metadata": {},
   "source": [
    "# Using shapely to expand"
   ]
  },
  {
   "cell_type": "code",
   "execution_count": 6,
   "metadata": {},
   "outputs": [
    {
     "data": {
      "text/plain": [
       "{'type': 'LineString',\n",
       " 'coordinates': ((-0.5, -1.0),\n",
       "  (-0.5, 3.207106781186548),\n",
       "  (1.0, 1.7071067811865475),\n",
       "  (2.5, 3.207106781186548),\n",
       "  (2.5, -1.0),\n",
       "  (1.0, 0.12499999999999992),\n",
       "  (-0.5, -1.0))}"
      ]
     },
     "execution_count": 6,
     "metadata": {},
     "output_type": "execute_result"
    },
    {
     "data": {
      "image/png": "[encoded data removed]",
      "text/plain": [
       "<Figure size 540x360 with 1 Axes>"
      ]
     },
     "metadata": {},
     "output_type": "display_data"
    }
   ],
   "source": [
    "from matplotlib import pyplot\n",
    "from shapely.geometry import LineString, LinearRing, mapping\n",
    "from descartes import PolygonPatch\n",
    "\n",
    "def plot_coords(ax, x, y, color='#999999', zorder=1):\n",
    "    ax.plot(x, y, 'o', color=color, zorder=zorder)\n",
    "\n",
    "def plot_line(ax, ob,):\n",
    "    parts = hasattr(ob, 'geoms') and ob or [ob]\n",
    "    for part in parts:\n",
    "        x, y = part.xy\n",
    "        ax.plot(x, y, linewidth=3, solid_capstyle='round', zorder=1)\n",
    "\n",
    "def set_limits(ax, x_range, y_range):\n",
    "    ax.set_xlim(*x_range)\n",
    "    ax.set_ylim(*y_range)\n",
    "    ax.set_aspect(1)\n",
    "\n",
    "fig = pyplot.figure(1, dpi=90)\n",
    "ax = fig.add_subplot(122)\n",
    "obj = LinearRing([(1,1),(2,2),(2,0),(1,0.75),(0,0),(0,2),(1,1)])\n",
    "\n",
    "plot_line(ax, obj)\n",
    "\n",
    "offset = obj.parallel_offset(0.5, 'left', join_style=2, mitre_limit=10.0)\n",
    "plot_line(ax, offset)\n",
    "\n",
    "mapping(offset)"
   ]
  },
  {
   "cell_type": "code",
   "execution_count": 7,
   "metadata": {},
   "outputs": [
    {
     "data": {
      "text/plain": [
       "{'type': 'LineString',\n",
       " 'coordinates': ((-2.5, -2.5),\n",
       "  (-2.5, -2.0),\n",
       "  (-2.5, 3.0),\n",
       "  (-2.5, 3.309016994374948),\n",
       "  (0.09872652454106637, 4.608380256645481),\n",
       "  (1.0, 3.707106781186548),\n",
       "  (1.901273475458934, 4.608380256645482),\n",
       "  (4.5, 3.309016994374949),\n",
       "  (4.5, -2.5),\n",
       "  (-2.5, -2.5))}"
      ]
     },
     "execution_count": 7,
     "metadata": {},
     "output_type": "execute_result"
    },
    {
     "data": {
      "image/png": "[encoded data removed]",
      "text/plain": [
       "<Figure size 540x360 with 1 Axes>"
      ]
     },
     "metadata": {},
     "output_type": "display_data"
    }
   ],
   "source": [
    "fig = pyplot.figure(1, dpi=90)\n",
    "ax = fig.add_subplot(122)\n",
    "obj = LineString([(-2,3),(-2,-2),(4,-2),(4,3),(2,4),(1,3),(0,4),(-2,3),(-2,-2)])\n",
    "\n",
    "plot_line(ax, obj)\n",
    "\n",
    "offset = obj.parallel_offset(0.5, 'left', join_style=2, mitre_limit=10.0)\n",
    "plot_line(ax, offset)\n",
    "\n",
    "mapping(offset)"
   ]
  },
  {
   "cell_type": "code",
   "execution_count": 9,
   "metadata": {},
   "outputs": [
    {
     "data": {
      "text/plain": [
       "{'type': 'LineString',\n",
       " 'coordinates': ((-2.5, 1.881966011250105),\n",
       "  (-2.5, 5.207106781186548),\n",
       "  (0.0, 2.707106781186548),\n",
       "  (2.5, 5.207106781186548),\n",
       "  (2.5, 1.881966011250105),\n",
       "  (0.0, -3.118033988749895),\n",
       "  (-2.5, 1.881966011250105))}"
      ]
     },
     "execution_count": 9,
     "metadata": {},
     "output_type": "execute_result"
    },
    {
     "data": {
      "image/png": "[encoded data removed]",
      "text/plain": [
       "<Figure size 540x360 with 1 Axes>"
      ]
     },
     "metadata": {},
     "output_type": "display_data"
    }
   ],
   "source": [
    "fig = pyplot.figure(1, dpi=90)\n",
    "ax = fig.add_subplot(122)\n",
    "obj = LineString ([(0,2),(2,4),(2,2),(0,-2),(-2,2),(-2,4),(0,2)])\n",
    "\n",
    "plot_line(ax, obj)\n",
    "\n",
    "offset = obj.parallel_offset(0.5, 'left', join_style=2, mitre_limit=10.0)\n",
    "plot_line(ax,offset)\n",
    "\n",
    "mapping(offset)"
   ]
  },
  {
   "cell_type": "code",
   "execution_count": 10,
   "metadata": {},
   "outputs": [
    {
     "name": "stdout",
     "output_type": "stream",
     "text": [
      "LINESTRING (2 2, 1 2, 2 3, 3 3, 2.5 2.5, 3.5 2.5, 1.5 0, 0 0, 2 2)\n",
      "LINESTRING (-1.207106781186547 -0.5, 0.7928932188134524 1.5, -0.2071067811865479 1.5, 1.792893218813452 3.5, 4.207106781186548 3.5, 3.707106781186548 3, 4.540312423743285 3, 1.740312423743285 -0.5, -1.207106781186547 -0.5)\n"
     ]
    },
    {
     "data": {
      "image/png": "[encoded data removed]",
      "text/plain": [
       "<Figure size 540x360 with 1 Axes>"
      ]
     },
     "metadata": {},
     "output_type": "display_data"
    }
   ],
   "source": [
    "fig = pyplot.figure(1, dpi=90)\n",
    "ax = fig.add_subplot(122)\n",
    "obj = LineString ([(2,2),(1,2),(2,3),(3,3),(2.5,2.5),(3.5,2.5),(1.5,0),(0,0),(2,2)])\n",
    "\n",
    "plot_line(ax, obj)\n",
    "\n",
    "offset = obj.parallel_offset(0.5, 'left', join_style=2, mitre_limit=10.0)\n",
    "plot_line(ax,offset)\n",
    "\n",
    "mapping(offset)\n",
    "\n",
    "print(obj)\n",
    "print(offset)"
   ]
  },
  {
   "cell_type": "markdown",
   "metadata": {},
   "source": [
    "# Creating the Function"
   ]
  },
  {
   "cell_type": "code",
   "execution_count": 68,
   "metadata": {},
   "outputs": [
    {
     "data": {
      "text/plain": [
       "[(2, 2),\n",
       " (1, 2),\n",
       " (2, 3),\n",
       " (3, 3),\n",
       " (2.5, 2.5),\n",
       " (3.5, 2.5),\n",
       " (1.5, 0),\n",
       " (0, 0),\n",
       " (2, 2)]"
      ]
     },
     "execution_count": 68,
     "metadata": {},
     "output_type": "execute_result"
    }
   ],
   "source": [
    "x = [[2,2],[1,2],[2,3],[3,3],[2.5,2.5],[3.5,2.5],[1.5,0],[0,0],[2,2]]\n",
    "\n",
    "def coordinate_get(x):\n",
    "    return [(i[0], i[1]) for i in x]\n",
    "    #out = []\n",
    "    #for i in x:\n",
    "    #    a=(i[0],i[1])\n",
    "    #   out.append(a)\n",
    "    #return out\n",
    "coordinate_get(x)\n"
   ]
  },
  {
   "cell_type": "code",
   "execution_count": null,
   "metadata": {},
   "outputs": [],
   "source": []
  }
 ],
 "metadata": {
  "kernelspec": {
   "display_name": "Python 3",
   "language": "python",
   "name": "python3"
  },
  "language_info": {
   "codemirror_mode": {
    "name": "ipython",
    "version": 3
   },
   "file_extension": ".py",
   "mimetype": "text/x-python",
   "name": "python",
   "nbconvert_exporter": "python",
   "pygments_lexer": "ipython3",
   "version": "3.6.2"
  }
 },
 "nbformat": 4,
 "nbformat_minor": 2
}
