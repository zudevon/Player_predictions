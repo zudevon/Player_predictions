{
 "cells": [
  {
   "cell_type": "markdown",
   "metadata": {},
   "source": [
    "# Predict player based on shots taken \n",
    "### preprocessing"
   ]
  },
  {
   "cell_type": "code",
   "execution_count": 19,
   "metadata": {},
   "outputs": [
    {
     "data": {
      "text/plain": [
       "710.0"
      ]
     },
     "execution_count": 19,
     "metadata": {},
     "output_type": "execute_result"
    }
   ],
   "source": [
    "import pandas as pd\n",
    "import numpy as np\n",
    "\n",
    "df_regSzn = pd.read_csv('./csvData/NBA_Shot_dist - regSzn_shots.csv')\n",
    "shot_stats = pd.read_csv('./csvData/NBA_Shot_dist - Sheet2.csv')\n",
    "\n",
    "df_regSzn.columns = [x.lower() for x in df_regSzn.columns]\n",
    "df_regSzn = df_regSzn.dropna()\n",
    "\n",
    "shot_stats.columns = ['name', 'team', 'szn', 'type', 'games', '0to8_makePrecent', '8to16_makePrecent',\n",
    "              '16to24_makePrecent', '24plus_makePrecent', 'bcMake', '0to8_att', \n",
    "              '8to16_att', '16to24_att', '24plus_att', 'bc_att', 'avgDist', \n",
    "              'avgMakeDist', 'avgMissDist']\n",
    "\n",
    "df_games = shot_stats.iloc[:, [0, 4]]\n",
    "df_games = df_games.loc[df_games['games'] >= 40]\n",
    "\n",
    "df_regSzn = pd.merge(df_games, df_regSzn, how='inner')\n",
    "\n",
    "del df_regSzn['team']\n",
    "del df_regSzn['age']\n",
    "\n",
    "# len(df_regSzn.columns)\n",
    "array_regSzn = df_regSzn.as_matrix()\n"
   ]
  },
  {
   "cell_type": "code",
   "execution_count": null,
   "metadata": {},
   "outputs": [],
   "source": []
  }
 ],
 "metadata": {
  "kernelspec": {
   "display_name": "Python 3",
   "language": "python",
   "name": "python3"
  },
  "language_info": {
   "codemirror_mode": {
    "name": "ipython",
    "version": 3
   },
   "file_extension": ".py",
   "mimetype": "text/x-python",
   "name": "python",
   "nbconvert_exporter": "python",
   "pygments_lexer": "ipython3",
   "version": "3.6.4"
  }
 },
 "nbformat": 4,
 "nbformat_minor": 2
}
