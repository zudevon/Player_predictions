{
 "cells": [
  {
   "cell_type": "markdown",
   "metadata": {},
   "source": [
    "# Predict position of NBA players"
   ]
  },
  {
   "cell_type": "code",
   "execution_count": 119,
   "metadata": {},
   "outputs": [],
   "source": [
    "import pandas as pd\n",
    "\n",
    "shot_stats = pd.read_csv('./csvData/NBA_Shot_dist - Sheet2.csv')\n",
    "guards = pd.read_csv('./csvData/NBA_Shot_dist - guard_list.csv')\n",
    "forwards = pd.read_csv('./csvData/NBA_Shot_dist - forwards_list.csv')\n",
    "centers = pd.read_csv('./csvData/NBA_Shot_dist - center_list.csv')\n",
    "playerHeight = pd.read_csv('./csvData/playerHeight.csv')\n",
    "\n",
    "playerHeight = playerHeight.iloc[:, [0, 7, 9]]\n",
    "\n",
    "shot_stats.columns = ['name', 'team', 'szn', 'type', 'games', '0to8_makePrecent', '8to16_makePrecent',\n",
    "              '16to24_makePrecent', '24plus_makePrecent', 'bcMake', '0to8_att', \n",
    "              '8to16_att', '16to24_att', '24plus_att', 'bc_att', 'avgDist', \n",
    "              'avgMakeDist', 'avgMissDist']\n",
    "\n",
    "position_df = pd.concat([guards, forwards, centers])\n",
    "\n",
    "position_df = position_df.groupby(['name'], as_index=False).sum()"
   ]
  },
  {
   "cell_type": "code",
   "execution_count": 120,
   "metadata": {},
   "outputs": [],
   "source": [
    "# merge\n",
    "df = pd.merge(playerHeight, shot_stats, how='inner')\n",
    "df = pd.merge(df, position_df, how='inner')\n"
   ]
  },
  {
   "cell_type": "markdown",
   "metadata": {},
   "source": [
    "# Delete columns out of DF"
   ]
  },
  {
   "cell_type": "code",
   "execution_count": 121,
   "metadata": {},
   "outputs": [],
   "source": [
    "del df['team']\n",
    "del df['szn']\n",
    "del df['type']\n",
    "del df['0to8_att']\n",
    "del df['8to16_att']\n",
    "del df['16to24_att']\n",
    "del df['24plus_att']\n",
    "del df['avgMissDist']\n",
    "del df['avgDist']\n",
    "del df['bc_att']\n",
    "del df['bcMake']"
   ]
  },
  {
   "cell_type": "markdown",
   "metadata": {},
   "source": [
    "# Make X and y - Test and Train sets"
   ]
  },
  {
   "cell_type": "code",
   "execution_count": 122,
   "metadata": {},
   "outputs": [],
   "source": [
    "from sklearn.model_selection import train_test_split\n",
    "\n",
    "X = df.iloc[:, 1:9]\n",
    "y = df.iloc[:, 9:12]\n",
    "\n",
    "X_train, X_test, y_train, y_test = train_test_split(X, y, test_size=.3)"
   ]
  },
  {
   "cell_type": "markdown",
   "metadata": {},
   "source": [
    "# Normalization && Tunning"
   ]
  },
  {
   "cell_type": "code",
   "execution_count": 123,
   "metadata": {},
   "outputs": [],
   "source": [
    "X['heightMeters'] = X['heightMeters']**2\n",
    "X['weightKilograms'] = X['weightKilograms']**2\n",
    "X['avgMakeDist'] = X['avgMakeDist']**2\n",
    "X['games'] = (X['games'])/82 \n",
    "\n"
   ]
  },
  {
   "cell_type": "markdown",
   "metadata": {},
   "source": [
    "# Use random forest to predict on all three positions"
   ]
  },
  {
   "cell_type": "code",
   "execution_count": 124,
   "metadata": {},
   "outputs": [
    {
     "name": "stdout",
     "output_type": "stream",
     "text": [
      "0.7017543859649122  -- Accuracy with Random Forests\n",
      "\n",
      "-------------- Importances per column with RF\n",
      "[0.33540101 0.24113354 0.04844777 0.07467626 0.05160191 0.05580068\n",
      " 0.07513222 0.11780661] \n",
      "\n"
     ]
    }
   ],
   "source": [
    "from sklearn.ensemble import RandomForestClassifier, GradientBoostingClassifier\n",
    "from sklearn import metrics\n",
    "\n",
    "\"\"\" RANDOM FOREST PREDICTION \"\"\"\n",
    "# X, y = make_classification(n_samples=100, n_features=5, n_informative=5, n_redundant=0, random_state=0, shuffle=False)\n",
    "clf = RandomForestClassifier(n_estimators=120, max_depth=25, random_state=0)\n",
    "clf.fit(X_train, y_train)\n",
    "y_pred = clf.predict(X_test)\n",
    "\n",
    "print(metrics.accuracy_score(y_test, y_pred), \" -- Accuracy with Random Forests\\n\")\n",
    "print(\"-------------- Importances per column with RF\")\n",
    "print((clf.feature_importances_), \"\\n\")\n",
    "\n"
   ]
  },
  {
   "cell_type": "markdown",
   "metadata": {},
   "source": [
    "# Spliting Y's up\n",
    "* Y1 = Guards\n",
    "* Y2 = Forwards\n",
    "* Y3 = Centers"
   ]
  },
  {
   "cell_type": "code",
   "execution_count": 127,
   "metadata": {},
   "outputs": [],
   "source": [
    "y1 = y.iloc[:, 0]\n",
    "X_train, X_test, y1_train, y1_test = train_test_split(X, y1, test_size=.3)\n",
    "\n",
    "y2 = y.iloc[:, 0]\n",
    "X_train, X_test, y2_train, y2_test = train_test_split(X, y2, test_size=.3)\n",
    "\n",
    "y3 = y.iloc[:, 0]\n",
    "X_train, X_test, y3_train, y3_test = train_test_split(X, y3, test_size=.3)"
   ]
  },
  {
   "cell_type": "code",
   "execution_count": 128,
   "metadata": {},
   "outputs": [
    {
     "name": "stdout",
     "output_type": "stream",
     "text": [
      "0.4473684210526316  -- Accuracy with Random Forests\n",
      "\n",
      "-------------- Importances per column with RF\n",
      "[0.08545149 0.12110838 0.13152989 0.14686236 0.12106277 0.12709884\n",
      " 0.10804134 0.15884492] \n",
      "\n"
     ]
    }
   ],
   "source": [
    "\"\"\" RANDOM FOREST PREDICTION \"\"\"\n",
    "# X, y = make_classification(n_samples=100, n_features=5, n_informative=5, n_redundant=0, random_state=0, shuffle=False)\n",
    "clf = RandomForestClassifier(n_estimators=120, max_depth=15, random_state=0)\n",
    "clf.fit(X_train, y1_train)\n",
    "y1_pred = clf.predict(X_test)\n",
    "\n",
    "print(metrics.accuracy_score(y1_test, y1_pred), \" -- Accuracy with Random Forests\\n\")\n",
    "print(\"-------------- Importances per column with RF\")\n",
    "print((clf.feature_importances_), \"\\n\")"
   ]
  },
  {
   "cell_type": "markdown",
   "metadata": {},
   "source": [
    "# Kmeans method & Clulstering\n",
    "##### how many clusters should this dataset have? \n",
    "* make 20 models\n",
    "* group them by model\n",
    "* sum positions in each model \n",
    "* get deviation score, as getting all positions in one group would be 100%\n",
    "* sumation of salaries to see if best players are put in the same group\n",
    "* Keep in mind - Fx(model_n) = groupBy(Gn) . count (positions) "
   ]
  },
  {
   "cell_type": "code",
   "execution_count": 129,
   "metadata": {},
   "outputs": [
    {
     "name": "stdout",
     "output_type": "stream",
     "text": [
      "[[3.69345276e+00 7.57410638e+03 5.86134050e-01 5.20590551e-01\n",
      "  3.83023622e-01 3.63157480e-01 3.39779528e-01 1.77091969e+02]\n",
      " [4.40660286e+00 1.29660376e+04 5.92682927e-01 5.79428571e-01\n",
      "  3.79695238e-01 3.33409524e-01 2.20447619e-01 8.03965295e+01]\n",
      " [4.09292041e+00 1.01807280e+04 5.78646093e-01 5.64836735e-01\n",
      "  3.53285714e-01 3.26931973e-01 3.02639456e-01 1.36052876e+02]]\n",
      "2\n"
     ]
    }
   ],
   "source": [
    "from sklearn.cluster import KMeans\n",
    "\n",
    "kmeans = KMeans(n_clusters=3)\n",
    "kmeans = kmeans.fit(X)\n",
    "\n",
    "labels = kmeans.predict(X)\n",
    "centroids = kmeans.cluster_centers_\n",
    "\n",
    "from sklearn.metrics import silhouette_score\n",
    "\n",
    "# Use silhouette score to find optimal number of clusters to segment the data\n",
    "num_clusters = np.arange(2,10)\n",
    "results = {}\n",
    "for size in num_clusters:\n",
    "    model = KMeans(n_clusters = size).fit(X)\n",
    "    predictions = model.predict(X)\n",
    "    results[size] = silhouette_score(X, predictions)\n",
    "\n",
    "best_size = max(results, key=results.get)\n",
    "\n",
    "\n",
    "\n",
    "print(centroids)\n",
    "print(best_size)"
   ]
  },
  {
   "cell_type": "code",
   "execution_count": null,
   "metadata": {},
   "outputs": [],
   "source": [
    "kmeans = KMeans(n_clusters=20)\n",
    "kmeans = kmeans.fit(df)\n",
    "\n",
    "labels = kmeans.predict(df)\n",
    "centroids = kmeans.cluster_centers_\n",
    "\n"
   ]
  }
 ],
 "metadata": {
  "kernelspec": {
   "display_name": "Python 3",
   "language": "python",
   "name": "python3"
  },
  "language_info": {
   "codemirror_mode": {
    "name": "ipython",
    "version": 3
   },
   "file_extension": ".py",
   "mimetype": "text/x-python",
   "name": "python",
   "nbconvert_exporter": "python",
   "pygments_lexer": "ipython3",
   "version": "3.6.4"
  }
 },
 "nbformat": 4,
 "nbformat_minor": 2
}
