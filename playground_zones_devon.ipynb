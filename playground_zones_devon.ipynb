{
 "cells": [
  {
   "cell_type": "code",
   "execution_count": 1,
   "metadata": {},
   "outputs": [
    {
     "name": "stdout",
     "output_type": "stream",
     "text": [
      "[0, 0] pair(xy)\n",
      "0.6666666666666666 0.33333333333333337 new(x,y)\n",
      "r = 0.7453559924999299\n",
      "a (new y) =  -1.227552307393523 \n",
      "\n",
      "b (new x) =  1.240718692197491 \n",
      "\n",
      "c =  1.7453559924999298 \n",
      "\n",
      "theta =  206.565051177078 \n",
      "\n",
      "\n",
      "\n",
      "[1, 1] pair(xy)\n",
      "-0.33333333333333337 -0.6666666666666666 new(x,y)\n",
      "r = 0.7453559924999299\n",
      "a (new y) =  0.989956838383058 \n",
      "\n",
      "b (new x) =  1.437446694209575 \n",
      "\n",
      "c =  1.7453559924999298 \n",
      "\n",
      "theta =  63.43494882292201 \n",
      "\n",
      "\n",
      "\n",
      "[1, 0] pair(xy)\n",
      "-0.33333333333333337 0.33333333333333337 new(x,y)\n",
      "r = 0.47140452079103173\n",
      "a (new y) =  1.0963924540615568 \n",
      "\n",
      "b (new x) =  0.9813026294070362 \n",
      "\n",
      "c =  1.4714045207910318 \n",
      "\n",
      "theta =  315.0 \n",
      "\n",
      "\n",
      "\n"
     ]
    }
   ],
   "source": [
    "triangle1 = [[0,0],[0,1],[1,0]]\n",
    "triangle2 = [[0,0],[1,1],[1,0]]\n",
    "\n",
    "from sklearn.cluster import KMeans\n",
    "from sklearn.metrics import silhouette_score\n",
    "import numpy as np\n",
    "import math\n",
    "\n",
    "kmeans = KMeans(n_clusters=1)\n",
    "kmeans = kmeans.fit(triangle2)\n",
    "centroid = kmeans.cluster_centers_\n",
    "\n",
    "centroid[0][1]\n",
    "\n",
    "def polar(x, y):\n",
    "    \"\"\"returns r, theta(degrees)\n",
    "    \"\"\"\n",
    "    r = (x ** 2 + y ** 2) ** .5\n",
    "    if y == 0:\n",
    "        theta = 180 if x < 0 else 0\n",
    "    elif x == 0:\n",
    "        theta = 90 if y > 0 else 270\n",
    "    else:\n",
    "        theta = math.degrees(math.atan(float(y) / x)) \n",
    "    return r, theta\n",
    "\n",
    "for x in triangle2:\n",
    "    print(x,'pair(xy)')\n",
    "    new_x = centroid[0][0]-x[0]\n",
    "    new_y = centroid[0][1]-x[1]\n",
    "    \n",
    "    print(new_x, new_y, 'new(x,y)')\n",
    "    \n",
    "    r, theta = polar(new_x,new_y)\n",
    "    \n",
    "    print('r =',r)\n",
    "    \n",
    "    if new_y < 0:\n",
    "        if new_x >0:\n",
    "            theta += 180\n",
    "        else:\n",
    "            theta += 0\n",
    "    else:\n",
    "        if new_x < 0:\n",
    "            theta += 360\n",
    "        else:\n",
    "            theta += 180\n",
    "            \n",
    "    c = r + 1\n",
    "    a = c * math.sin(theta)\n",
    "    b = math.sqrt((c**2)-(a**2))\n",
    "    \n",
    "    print('a (new y) = ',a,'\\n')\n",
    "    print('b (new x) = ',b,'\\n')\n",
    "    print('c = ',c,'\\n')\n",
    "    print('theta = ',theta, '\\n')\n",
    "    print('\\n')\n",
    "\n",
    "    \n",
    "    \"\"\"\n",
    "import pyclipper\n",
    "\n",
    "subj = ((0,0),(1,0),(1,1))\n",
    "\n",
    "pco = pyclipper.Pyclipper()\n",
    "pco.AddPath(subj, )\n",
    "\n",
    "solution = pco.Execute(5.0)\n",
    "\n",
    "print(solution)\n",
    "\n",
    "\"\"\"\n",
    "\n",
    "\n"
   ]
  },
  {
   "cell_type": "markdown",
   "metadata": {},
   "source": [
    "# New Func - CLOCKWISE"
   ]
  },
  {
   "cell_type": "code",
   "execution_count": 2,
   "metadata": {},
   "outputs": [],
   "source": [
    "def clockwise(shape):\n",
    "\n",
    "    shape = np.array(shape)\n",
    "\n",
    "    sorted_shapeX = sorted(shape, key=lambda k: [k[0]])\n",
    "\n",
    "    first = sorted_shapeX[0]\n",
    "    last = sorted_shapeX[-1]\n",
    "    midx = first[0] + (last[0] - first[0])/2.1100000000000000\n",
    "    midx += .000000000001\n",
    "    \n",
    "    westside = []\n",
    "    eastside = []\n",
    "\n",
    "    for x in sorted_shapeX:\n",
    "        if x[0] <= midx:\n",
    "            westside.append(x[0:2])\n",
    "        if x[0] > midx:\n",
    "            eastside.append(x[0:2])\n",
    "\n",
    "    sorted_westside = sorted(westside, key=lambda k: [k[1]])\n",
    "    sorted_eastside = sorted(eastside, key=lambda k: [k[1]], reverse=True)\n",
    "\n",
    "    clock = sorted_westside + sorted_eastside\n",
    "\n",
    "    first = clock[0]\n",
    "    second = clock[1]\n",
    "\n",
    "    clock.extend([first, second])\n",
    "\n",
    "    return [(i[0], i[1]) for i in clock]"
   ]
  },
  {
   "cell_type": "code",
   "execution_count": 3,
   "metadata": {},
   "outputs": [
    {
     "data": {
      "text/plain": [
       "{'coordinates': ((-0.5, -1.0),\n",
       "  (-0.5, 3.207106781186548),\n",
       "  (1.0, 1.7071067811865475),\n",
       "  (2.5, 3.207106781186548),\n",
       "  (2.5, -1.0),\n",
       "  (1.0, 0.12499999999999992),\n",
       "  (-0.5, -1.0)),\n",
       " 'type': 'LineString'}"
      ]
     },
     "execution_count": 3,
     "metadata": {},
     "output_type": "execute_result"
    }
   ],
   "source": [
    "from matplotlib import pyplot\n",
    "from shapely.geometry import LineString, LinearRing, mapping\n",
    "from descartes import PolygonPatch\n",
    "\n",
    "def plot_coords(ax, x, y, color='#999999', zorder=1):\n",
    "    ax.plot(x, y, 'o', color=color, zorder=zorder)\n",
    "\n",
    "def plot_line(ax, ob,):\n",
    "    parts = hasattr(ob, 'geoms') and ob or [ob]\n",
    "    for part in parts:\n",
    "        x, y = part.xy\n",
    "        ax.plot(x, y, linewidth=3, solid_capstyle='round', zorder=1)\n",
    "\n",
    "def set_limits(ax, x_range, y_range):\n",
    "    ax.set_xlim(*x_range)\n",
    "    ax.set_ylim(*y_range)\n",
    "    ax.set_aspect(1)\n",
    "\n",
    "fig = pyplot.figure(1, dpi=90)\n",
    "ax = fig.add_subplot(122)\n",
    "obj = LinearRing([(1,1),(2,2),(2,0),(1,0.75),(0,0),(0,2),(1,1)])\n",
    "\n",
    "plot_line(ax, obj)\n",
    "\n",
    "offset = obj.parallel_offset(0.5, 'left', join_style=2, mitre_limit=10.0)\n",
    "plot_line(ax, offset)\n",
    "\n",
    "mapping(offset)"
   ]
  },
  {
   "cell_type": "code",
   "execution_count": 4,
   "metadata": {},
   "outputs": [
    {
     "data": {
      "text/plain": [
       "{'coordinates': ((-1.5, -1.5),\n",
       "  (3.5, -1.5),\n",
       "  (3.5, 2.6909830056250525),\n",
       "  (2.098726524541067, 3.391619743354519),\n",
       "  (1.0, 2.2928932188134525),\n",
       "  (-0.09872652454106688, 3.391619743354519),\n",
       "  (-1.5, 2.6909830056250525),\n",
       "  (-1.5, -1.5)),\n",
       " 'type': 'LineString'}"
      ]
     },
     "execution_count": 4,
     "metadata": {},
     "output_type": "execute_result"
    },
    {
     "data": {
      "image/png": "[encoded data removed]",
      "text/plain": [
       "<matplotlib.figure.Figure at 0x1095fd0f0>"
      ]
     },
     "metadata": {},
     "output_type": "display_data"
    }
   ],
   "source": [
    "fig = pyplot.figure(1, dpi=90)\n",
    "ax = fig.add_subplot(122)\n",
    "obj = LineString([(-2,3),(-2,-2),(4,-2),(4,3),(2,4),(1,3),(0,4),(-2,3),(-2,-2)])\n",
    "\n",
    "plot_line(ax, obj)\n",
    "\n",
    "offset = obj.parallel_offset(0.5, 'left', join_style=2, mitre_limit=10.0)\n",
    "plot_line(ax, offset)\n",
    "\n",
    "mapping(offset)"
   ]
  },
  {
   "cell_type": "code",
   "execution_count": 5,
   "metadata": {},
   "outputs": [
    {
     "data": {
      "text/plain": [
       "{'coordinates': ((-2.5, 1.881966011250105),\n",
       "  (-2.5, 5.207106781186548),\n",
       "  (0.0, 2.707106781186548),\n",
       "  (2.5, 5.207106781186548),\n",
       "  (2.5, 1.881966011250105),\n",
       "  (0.0, -3.118033988749895),\n",
       "  (-2.5, 1.881966011250105)),\n",
       " 'type': 'LineString'}"
      ]
     },
     "execution_count": 5,
     "metadata": {},
     "output_type": "execute_result"
    },
    {
     "data": {
      "image/png": "[encoded data removed]",
      "text/plain": [
       "<matplotlib.figure.Figure at 0x1a15ee6d30>"
      ]
     },
     "metadata": {},
     "output_type": "display_data"
    }
   ],
   "source": [
    "fig = pyplot.figure(1, dpi=90)\n",
    "ax = fig.add_subplot(122)\n",
    "obj = LineString ([(0,2),(2,4),(2,2),(0,-2),(-2,2),(-2,4),(0,2)])\n",
    "\n",
    "plot_line(ax, obj)\n",
    "\n",
    "offset = obj.parallel_offset(0.5, 'left', join_style=2, mitre_limit=10.0)\n",
    "plot_line(ax,offset)\n",
    "\n",
    "mapping(offset)"
   ]
  },
  {
   "cell_type": "code",
   "execution_count": 18,
   "metadata": {},
   "outputs": [
    {
     "name": "stdout",
     "output_type": "stream",
     "text": [
      "LINESTRING (2 2, 1 2, 2 3, 3 3, 2.5 2.5, 3.5 2.5, 1.5 0, 0 0, 2 2)\n",
      "LINESTRING (-1.207106781186547 -0.5, 0.7928932188134524 1.5, -0.2071067811865479 1.5, 1.792893218813452 3.5, 4.207106781186548 3.5, 3.707106781186548 3, 4.540312423743285 3, 1.740312423743285 -0.5, -1.207106781186547 -0.5)\n"
     ]
    },
    {
     "data": {
      "image/png": "[encoded data removed]",
      "text/plain": [
       "<matplotlib.figure.Figure at 0x1a172b78d0>"
      ]
     },
     "metadata": {},
     "output_type": "display_data"
    }
   ],
   "source": [
    "fig = pyplot.figure(1, dpi=90)\n",
    "ax = fig.add_subplot(122)\n",
    "obj = LineString ([(2,2),(1,2),(2,3),(3,3),(2.5,2.5),(3.5,2.5),(1.5,0),(0,0),(2,2)])\n",
    "\n",
    "plot_line(ax, obj)\n",
    "\n",
    "offset = obj.parallel_offset(0.5, 'left', join_style=2, mitre_limit=10.0)\n",
    "plot_line(ax,offset)\n",
    "\n",
    "mapping(offset)\n",
    "\n",
    "print(obj)\n",
    "print(offset)"
   ]
  },
  {
   "cell_type": "code",
   "execution_count": 5,
   "metadata": {},
   "outputs": [],
   "source": [
    "x = [[2,2],[1,2],[2,3],[3,3],[2.5,2.5],[3.5,2.5],[1.5,0],[0,0],[2,2]]\n",
    "\n",
    "def coordinate_get(x):\n",
    "    return [(i[0], i[1]) for i in x]\n",
    "    #out = []\n",
    "    #for i in x:\n",
    "    #    a=(i[0],i[1])\n",
    "    #   out.append(a)\n",
    "    #return out\n",
    "a = coordinate_get(x)"
   ]
  },
  {
   "cell_type": "code",
   "execution_count": 8,
   "metadata": {},
   "outputs": [
    {
     "ename": "IndexError",
     "evalue": "too many indices for array",
     "output_type": "error",
     "traceback": [
      "\u001b[0;31m---------------------------------------------------------------------------\u001b[0m",
      "\u001b[0;31mIndexError\u001b[0m                                Traceback (most recent call last)",
      "\u001b[0;32m<ipython-input-8-e56da0ec64c0>\u001b[0m in \u001b[0;36m<module>\u001b[0;34m()\u001b[0m\n\u001b[1;32m     42\u001b[0m \u001b[0;34m\u001b[0m\u001b[0m\n\u001b[1;32m     43\u001b[0m \u001b[0ma\u001b[0m \u001b[0;34m=\u001b[0m \u001b[0mnp\u001b[0m\u001b[0;34m.\u001b[0m\u001b[0marray\u001b[0m\u001b[0;34m(\u001b[0m\u001b[0ma\u001b[0m\u001b[0;34m)\u001b[0m\u001b[0;34m\u001b[0m\u001b[0m\n\u001b[0;32m---> 44\u001b[0;31m \u001b[0mfirst\u001b[0m  \u001b[0;34m=\u001b[0m \u001b[0ma\u001b[0m\u001b[0;34m[\u001b[0m\u001b[0;36m0\u001b[0m\u001b[0;34m]\u001b[0m\u001b[0;34m[\u001b[0m\u001b[0;36m0\u001b[0m\u001b[0;34m]\u001b[0m\u001b[0;34m\u001b[0m\u001b[0m\n\u001b[0m\u001b[1;32m     45\u001b[0m \u001b[0morder_points\u001b[0m\u001b[0;34m(\u001b[0m\u001b[0ma\u001b[0m\u001b[0;34m)\u001b[0m\u001b[0;34m\u001b[0m\u001b[0m\n",
      "\u001b[0;31mIndexError\u001b[0m: too many indices for array"
     ]
    }
   ],
   "source": [
    "\"\"\" Doesn't work because this function can only handle 4 points but it will arrange the points \n",
    "in a clockwise formation\"\"\"\n",
    "\n",
    "\n",
    "# import the necessary packages\n",
    "from scipy.spatial import distance as dist\n",
    "import numpy as np\n",
    "import cv2\n",
    " \n",
    "def order_points(pts):\n",
    "    # sort the points based on their x-coordinates\n",
    "    xSorted = pts[np.argsort(pts[:, 0]), :]\n",
    " \n",
    "    # grab the left-most and right-most points from the sorted\n",
    "    # x-roodinate points\n",
    "    leftMost = xSorted[:2, :]\n",
    "    rightMost = xSorted[2:, :]\n",
    " \n",
    "    # now, sort the left-most coordinates according to their\n",
    "    # y-coordinates so we can grab the top-left and bottom-left\n",
    "    # points, respectively\n",
    "    leftMost = leftMost[np.argsort(leftMost[:, 1]), :]\n",
    "    # (tl, bl) = leftMost # doesn't help because\n",
    "     \n",
    "    # now that we have the top-left coordinate, use it as an\n",
    "    # anchor to calculate the Euclidean distance between the\n",
    "    # top-left and right-most points; by the Pythagorean\n",
    "    # theorem, the point with the largest distance will be\n",
    "    # our bottom-right point\n",
    "    \n",
    "    # D = dist.cdist(tl[np.newaxis], rightMost, \"euclidean\")[0]\n",
    "    D = dist.cdist(first[np.newaxis], rightMost, \"euclidean\")[0]\n",
    "    \n",
    "    # (br, tr) = rightMost[np.argsort(D)[::-1], :]\n",
    "    rightMost[np.argsort(D)[::-1], :]\n",
    "\n",
    "    # return the coordinates in top-left, top-right,\n",
    "    # bottom-right, and bottom-left order\n",
    "\n",
    "    \n",
    "    return leftMost, rightMost\n",
    "    # return np.array([tl, tr, br, bl], dtype=\"float32\")\n",
    "    \n",
    "a = np.array(a)   \n",
    "first  = a[0][0]\n",
    "order_points(a)    "
   ]
  },
  {
   "cell_type": "code",
   "execution_count": 6,
   "metadata": {},
   "outputs": [
    {
     "name": "stdout",
     "output_type": "stream",
     "text": [
      "LINESTRING (0 0, 0 3, 3 5, 5 4, 5 0, 0 0, 0 3)\n",
      "LINESTRING (-0.5 -0.5, -0.5 0, -0.5 3, -0.5 3.267591879243998, 2.964078670112243 5.576977659318826, 5.5 4.309016994374948, 5.5 -0.5, -0.5 -0.5)\n"
     ]
    },
    {
     "data": {
      "image/png": "[encoded data removed]",
      "text/plain": [
       "<matplotlib.figure.Figure at 0x1a16c47358>"
      ]
     },
     "metadata": {},
     "output_type": "display_data"
    }
   ],
   "source": [
    "fig = pyplot.figure(1, dpi=90)\n",
    "ax = fig.add_subplot(122)\n",
    "# shape = [(2,2),(1,2),(2,3),(3,3),(2.5,2.5),(3.5,2.5),(1.5,0),(0,0),(2,2), (1,2)]\n",
    "shape = [(0, 0), (5, 0), (5, 4), (3, 5), (0, 3)]\n",
    "shape = clockwise(shape)\n",
    "obj = LineString (shape)\n",
    "\n",
    "plot_line(ax, obj)\n",
    "\n",
    "offset = obj.parallel_offset(0.5, 'left', join_style=2, mitre_limit=10.0)\n",
    "plot_line(ax,offset)\n",
    "\n",
    "mapping(offset)\n",
    "\n",
    "print(obj)\n",
    "print(offset)"
   ]
  },
  {
   "cell_type": "code",
   "execution_count": 34,
   "metadata": {},
   "outputs": [
    {
     "name": "stdout",
     "output_type": "stream",
     "text": [
      "LINESTRING (3 0, 1 1, 2 2, 3 3, 2 4, 3 5, 4 4, 5 4, 7 4, 4 3, 5 2, 6 1, 7 0, 3 0, 1 1)\n",
      "LINESTRING (6.570727505639251e-05 0.9885365697687447, 0.003882172230699754 1.088029956265868, 0.01757365063583682 1.186650657847764, 0.04100441202804128 1.283420998252277, 0.07394217556921379 1.377381644771601, 0.1160604127615223 1.46760111859647, 0.1669415844874568 1.553185029030731, 0.2260812802836034 1.633284940032947, 0.2928932188134522 1.707106781186547, 1.585786437626905 3, 1.292893218813453 3.292893218813453, 1.226989546637259 3.365606715836359, 1.168530387697452 3.444429766980402, 1.118078735651642 3.528603263174007, 1.076120467488711 3.617316567634915, 1.04305966426779 3.709715322745541, 1.019214719596769 3.804909677983876, 1.004815273327803 3.901982859670443, 1 4.000000000000004, 1.004815273327803 4.098017140329564, 1.01921471959677 4.195090322016131, 1.043059664267792 4.290284677254465, 1.076120467488714 4.382683432365091, 1.118078735651646 4.471396736825999, 1.168530387697456 4.555570233019603, 1.226989546637264 4.634393284163647, 1.292893218813453 4.707106781186548, 2.292893218813453 5.707106781186548, 2.365606715836355 5.773010453362737, 2.444429766980398 5.831469612302545, 2.528603263174002 5.881921264348355, 2.61731656763491 5.923879532511287, 2.709715322745538 5.956940335732209, 2.804909677983872 5.98078528040323, 2.901982859670439 5.995184726672197, 3 6, 3.09801714032956 5.995184726672197, 3.195090322016128 5.98078528040323, 3.290284677254462 5.956940335732209, 3.38268343236509 5.923879532511287, 3.471396736825997 5.881921264348355, 3.555570233019602 5.831469612302546, 3.634393284163645 5.773010453362737, 3.707106781186547 5.707106781186548, 4.414213562373096 5, 7 5, 7.097082782052087 4.995276310091337, 7.193248386188404 4.981149866858054, 7.287588299421315 4.957754128174845, 7.379211256758573 4.925310122471155, 7.467251661322227 4.884124360591664, 7.550877761971095 4.834585940071912, 7.629299511169702 4.777162869186101, 7.701776028867432 4.712397645495167, 7.767622601873756 4.640902130666271, 7.826217152603815 4.563351769983236, 7.877006116081635 4.480479211158408, 7.919509669678715 4.393067382731436, 7.953326266180635 4.301942097445998, 7.978136427356114 4.207964250483148, 7.993705762189197 4.112021686257558, 7.999887181260213 4.015020810614115, 7.996622286355389 3.917878027667637, 7.983941922176953 3.821511082185131, 7.961965884941521 3.726830389302405, 7.930901790619737 3.63473043348649, 7.89104311350934 3.546081318001139, 7.842766413672006 3.461720544710811, 7.786527779427427 3.382445101882464, 7.72285851851372 3.309003934734683, 7.652360138621424 3.242090869867741, 7.575698664721887 3.182338060420178, 7.493598346876396 3.130310013877997, 7.406834817970759 3.086498258958036, 7.316227766016839 3.051316701949486, 5.851229586821916 2.562983975551179, 7.707106781186548 0.7071067811865475, 7.773010453362737 0.6343932841636453, 7.831469612302546 0.555570233019602, 7.881921264348355 0.4713967368259974, 7.923879532511287 0.3826834323650895, 7.956940335732209 0.2902846772544621, 7.98078528040323 0.1950903220161281, 7.995184726672197 0.09801714032956038, 8 -2.220446049250313e-16, 7.995184726672197 -0.09801714032956083, 7.98078528040323 -0.1950903220161285, 7.956940335732209 -0.2902846772544626, 7.923879532511287 -0.3826834323650898, 7.881921264348355 -0.4713967368259976, 7.831469612302545 -0.5555702330196022, 7.773010453362737 -0.6343932841636453, 7.707106781186548 -0.7071067811865472, 7.634393284163646 -0.7730104533627367, 7.555570233019603 -0.8314696123025449, 7.471396736825998 -0.8819212643483547, 7.382683432365091 -0.9238795325112864, 7.290284677254463 -0.9569403357322086, 7.195090322016129 -0.9807852804032303, 7.098017140329561 -0.9951847266721968, 7.000000000000001 -1, 3 -1, 2.907403314291259 -0.9957036977915451, 2.815602275273129 -0.9828517075915132, 2.725385692958957 -0.9615544614676631, 2.637528762752411 -0.9319949582311066, 2.552786404500042 -0.8944271909999159, 0.5527864045000421 0.1055728090000841, 0.4660585183951383 0.1544785666692977, 0.3846238608271677 0.2117664005279025, 0.3092897342219229 0.2768683876715263, 0.2408029633953973 0.3491391395921939, 0.1798424919064465 0.4278622002368898, 0.1270126513502479 0.5122571485941838, 0.08283717031741933 0.6014873353974286, 0.04775398241097073 0.69466817724673, 0.02211088479180934 0.7908759259259185, 0.006162090291807476 0.8891568259798981, 6.570727505639251e-05 0.9885365697687447)\n"
     ]
    },
    {
     "data": {
      "image/png": "[encoded data removed]",
      "text/plain": [
       "<matplotlib.figure.Figure at 0x1a1733af28>"
      ]
     },
     "metadata": {},
     "output_type": "display_data"
    }
   ],
   "source": [
    "fig = pyplot.figure(1, dpi=90)\n",
    "ax = fig.add_subplot(122)\n",
    "shape = [(1, 1), (3, 0), (7, 0), (6, 1), (5, 2), (7, 4), (5, 4), (4, 3), (4, 4), (3, 5), (2, 4), (3, 3), (2, 2)]\n",
    "shape = clockwise(shape)\n",
    "obj = LineString (shape)\n",
    "\n",
    "plot_line(ax, obj)\n",
    "\n",
    "offset = obj.parallel_offset(1, 'left', join_style=1, mitre_limit=5.0)\n",
    "plot_line(ax,offset)\n",
    "\n",
    "mapping(offset)\n",
    "\n",
    "print(obj)\n",
    "print(offset)"
   ]
  },
  {
   "cell_type": "code",
   "execution_count": null,
   "metadata": {},
   "outputs": [],
   "source": []
  },
  {
   "cell_type": "code",
   "execution_count": null,
   "metadata": {},
   "outputs": [],
   "source": []
  }
 ],
 "metadata": {
  "kernelspec": {
   "display_name": "Python 3",
   "language": "python",
   "name": "python3"
  },
  "language_info": {
   "codemirror_mode": {
    "name": "ipython",
    "version": 3
   },
   "file_extension": ".py",
   "mimetype": "text/x-python",
   "name": "python",
   "nbconvert_exporter": "python",
   "pygments_lexer": "ipython3",
   "version": "3.6.4"
  }
 },
 "nbformat": 4,
 "nbformat_minor": 2
}
