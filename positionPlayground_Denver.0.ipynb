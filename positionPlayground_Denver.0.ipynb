{
 "cells": [
  {
   "cell_type": "markdown",
   "metadata": {},
   "source": [
    "# Predicting Position of NBA Players\n",
    "### Based on in game stats"
   ]
  },
  {
   "cell_type": "code",
   "execution_count": 1,
   "metadata": {},
   "outputs": [],
   "source": [
    "import pandas as pd\n",
    "import numpy as np"
   ]
  },
  {
   "cell_type": "markdown",
   "metadata": {},
   "source": [
    "### Creating Dataframe"
   ]
  },
  {
   "cell_type": "code",
   "execution_count": 2,
   "metadata": {},
   "outputs": [],
   "source": [
    "shot_df = pd.read_csv(\"./csvData/NBA_Shot_dist - Sheet2.csv\")\n",
    "guard_df = pd.read_csv(\"./csvData/NBA_Shot_dist - guard_list.csv\")\n",
    "forward_df = pd.read_csv(\"./csvData/NBA_Shot_dist - forwards_list.csv\")\n",
    "center_df = pd.read_csv(\"./csvData/NBA_Shot_dist - center_list.csv\")\n",
    "heightWeight_df = pd.read_csv(\"./csvData/playerHeight.csv\")\n",
    "salary_df = pd.read_csv(\"./csvData/playerSalaries.csv\")\n",
    "dribble_df = pd.read_csv(\"./csvData/NBA_Shot_dist - dribble stats.csv\")\n",
    "\n",
    "for col in salary_df.select_dtypes([np.object]):\n",
    "\n",
    "    salary_df[col] = salary_df[col].str.lstrip('$')\n",
    "salary_df = salary_df.replace(regex={',':''})\n",
    "salary_df = salary_df.iloc[:,[1,2]]\n",
    "salary_df.columns = ['name', 'salary']\n",
    "\n",
    "heightWeight_df = heightWeight_df.iloc[:,[0,7,9]]\n",
    "\n",
    "shot_df.columns = ['name', 'team', 'szn', 'type', 'games', \n",
    "              '0to8_make', '8to16_make', '16to24_make', '24plus_make', 'bcMake',\n",
    "              '0to8_att', '8to16_att', '16to24_att', '24plus_att', 'bcatt', \n",
    "              'avg_dist', 'avg_madeDist', 'avg_missDist']\n",
    "\n",
    "gen_df = pd.read_csv(\"./csvData/NBA_Shot_dist - gen_stats.csv\")\n",
    "gen_df = gen_df.iloc[:, [0,19,20,22,23]]\n",
    "gen_df.columns = ['name','reb','ast','stl','blk',]\n",
    "\n",
    "position_df = pd.concat([guard_df, forward_df, center_df])\n",
    "position_df = position_df.groupby(['name'], as_index = False).sum()\n",
    "\n",
    "dribble_df = dribble_df.iloc[:,[0,11,14,15]]\n",
    "dribble_df.columns = ['name', 'avgDrib', 'post', 'paint']"
   ]
  },
  {
   "cell_type": "code",
   "execution_count": 3,
   "metadata": {},
   "outputs": [],
   "source": [
    "df = pd.merge(heightWeight_df, shot_df, how='inner')\n",
    "df = pd.merge(df,gen_df, how='inner')\n",
    "df = pd.merge(df,dribble_df, how='inner')\n",
    "df = pd.merge(df,salary_df, how='inner')\n",
    "df = pd.merge(df, position_df, how='inner')\n",
    "df = df.loc[df['games'] >= 26]"
   ]
  },
  {
   "cell_type": "markdown",
   "metadata": {},
   "source": [
    "### Deleting Columns"
   ]
  },
  {
   "cell_type": "code",
   "execution_count": 4,
   "metadata": {},
   "outputs": [],
   "source": [
    "del df['0to8_att']\n",
    "del df['8to16_att']\n",
    "del df['16to24_att']\n",
    "del df['24plus_att']\n",
    "del df['bcatt']\n",
    "del df['bcMake']\n",
    "del df['avg_missDist']\n",
    "del df['avg_dist']\n",
    "del df['team']\n",
    "del df['szn']\n",
    "del df['type']\n"
   ]
  },
  {
   "cell_type": "markdown",
   "metadata": {},
   "source": [
    "### Creating X and y - Train and Test Sets"
   ]
  },
  {
   "cell_type": "code",
   "execution_count": 5,
   "metadata": {},
   "outputs": [],
   "source": [
    "from sklearn.model_selection import train_test_split\n",
    "\n",
    "x = df.iloc[:, 1:16]\n",
    "x['heightMeters'] = x['heightMeters']**3\n",
    "x['weightKilograms'] = x['weightKilograms']**3\n",
    "x['avg_madeDist'] = x['avg_madeDist']**3\n",
    "x['reb'] = x['reb']**2\n",
    "x['avgDrib'] = x['avgDrib']**2\n",
    "x['games'] = (x['games'])/82 \n",
    "\n",
    "y = df.iloc[:, 17:20]\n",
    "\n",
    "x_train, x_test, y_train, y_test = train_test_split(x, y, test_size=.3)\n"
   ]
  },
  {
   "cell_type": "markdown",
   "metadata": {},
   "source": [
    "### Random Forest Classifier"
   ]
  },
  {
   "cell_type": "code",
   "execution_count": 6,
   "metadata": {},
   "outputs": [
    {
     "name": "stdout",
     "output_type": "stream",
     "text": [
      "0.75  -- Accuracy with Random Forests\n",
      "\n",
      "-------------- Importances per column with RF\n",
      "[0.19953178 0.15490382 0.02513541 0.02728829 0.02062952 0.0256401\n",
      " 0.03792075 0.06791733 0.04936105 0.03733992 0.02349625 0.03439978\n",
      " 0.12319537 0.0513891  0.12185153] \n",
      "\n"
     ]
    }
   ],
   "source": [
    "from sklearn.ensemble import RandomForestClassifier, GradientBoostingClassifier\n",
    "\n",
    "from sklearn import metrics\n",
    "\n",
    "\n",
    "\"\"\" RANDOM FOREST PREDICTION \"\"\"\n",
    "\n",
    "# X, y = make_classification(n_samples=100, n_features=5, n_informative=5, n_redundant=0, random_state=0, shuffle=False)\n",
    "\n",
    "clf = RandomForestClassifier(n_estimators=120, max_depth=15, random_state=0)\n",
    "\n",
    "clf.fit(x_train, y_train)\n",
    "\n",
    "y_pred = clf.predict(x_test)\n",
    "\n",
    "\n",
    "print(metrics.accuracy_score(y_test, y_pred), \" -- Accuracy with Random Forests\\n\")\n",
    "\n",
    "print(\"-------------- Importances per column with RF\")\n",
    "\n",
    "print((clf.feature_importances_), \"\\n\")"
   ]
  },
  {
   "cell_type": "markdown",
   "metadata": {},
   "source": [
    "### Splitting Y's up\n",
    "* y1 = guard\n",
    "* y2 = forward\n",
    "* y3 = center"
   ]
  },
  {
   "cell_type": "code",
   "execution_count": 7,
   "metadata": {},
   "outputs": [],
   "source": [
    "y1 = y.iloc[:,0]\n",
    "x_train, x_test, y1_train, y1_test = train_test_split(x, y1, test_size=.3)\n",
    "#y2 = y.iloc[:,1]\n",
    "#X_train, X_test, y2_train, y2_test = train_test_split(X, y2, test_size=.3)\n",
    "#y3 = y.iloc[:,2]\n",
    "#X_train, X_test, y3_train, y3_test = train_test_split(X, y3, test_size=.3)\n",
    "\n",
    "\n"
   ]
  },
  {
   "cell_type": "code",
   "execution_count": 8,
   "metadata": {},
   "outputs": [
    {
     "name": "stdout",
     "output_type": "stream",
     "text": [
      "0.9772727272727273  -- Accuracy with Random Forests\n",
      "\n",
      "-------------- Importances per column with RF\n",
      "[0.20858943 0.18358284 0.01402156 0.02177928 0.01565438 0.02105792\n",
      " 0.01844995 0.04378352 0.04582511 0.03537132 0.02541001 0.02874664\n",
      " 0.14450258 0.07126682 0.12195866] \n",
      "\n"
     ]
    }
   ],
   "source": [
    "\"\"\" RANDOM FOREST PREDICTION \"\"\"\n",
    "\n",
    "# X, y = make_classification(n_samples=100, n_features=5, n_informative=5, n_redundant=0, random_state=0, shuffle=False)\n",
    "\n",
    "clf = RandomForestClassifier(n_estimators=120, max_depth=15, random_state=0)\n",
    "\n",
    "clf.fit(x_train, y1_train)\n",
    "\n",
    "y1_pred = clf.predict(x_test)\n",
    "\n",
    "\n",
    "print(metrics.accuracy_score(y1_test, y1_pred), \" -- Accuracy with Random Forests\\n\")\n",
    "\n",
    "print(\"-------------- Importances per column with RF\")\n",
    "\n",
    "print((clf.feature_importances_), \"\\n\")"
   ]
  },
  {
   "cell_type": "markdown",
   "metadata": {},
   "source": [
    "### Using KMeans to determine how many groups to make\n",
    "* Make 20 models\n",
    "* Group by group number\n",
    "* sum by position\n",
    "* get score of model\n",
    "* check w salaries"
   ]
  },
  {
   "cell_type": "code",
   "execution_count": 9,
   "metadata": {},
   "outputs": [
    {
     "data": {
      "text/plain": [
       "2"
      ]
     },
     "execution_count": 9,
     "metadata": {},
     "output_type": "execute_result"
    }
   ],
   "source": [
    "from sklearn.cluster import KMeans\n",
    "from sklearn.metrics import silhouette_score\n",
    "import numpy as np\n",
    "\n",
    "# Use silhouette score to find optimal number of clusters to segment the data\n",
    "num_clusters = np.arange(2,10)\n",
    "results = {}\n",
    "for size in num_clusters:\n",
    "    model = KMeans(n_clusters = size).fit(x)\n",
    "    predictions = model.predict(x)\n",
    "    results[size] = silhouette_score(x, predictions)\n",
    "\n",
    "best_size = max(results, key=results.get)\n",
    "best_size"
   ]
  },
  {
   "cell_type": "code",
   "execution_count": 10,
   "metadata": {},
   "outputs": [],
   "source": [
    "kmeans = KMeans(n_clusters= 2)\n",
    "kmeans = kmeans.fit(x)\n",
    "\n",
    "labels = kmeans.predict(x)\n",
    "centroids = kmeans.cluster_centers_"
   ]
  },
  {
   "cell_type": "code",
   "execution_count": 11,
   "metadata": {},
   "outputs": [
    {
     "name": "stderr",
     "output_type": "stream",
     "text": [
      "/Users/denvercomp/.pyenv/versions/3.6.2/lib/python3.6/site-packages/ipykernel_launcher.py:6: SettingWithCopyWarning: \n",
      "A value is trying to be set on a copy of a slice from a DataFrame.\n",
      "Try using .loc[row_indexer,col_indexer] = value instead\n",
      "\n",
      "See the caveats in the documentation: http://pandas.pydata.org/pandas-docs/stable/indexing.html#indexing-view-versus-copy\n",
      "  \n",
      "/Users/denvercomp/.pyenv/versions/3.6.2/lib/python3.6/site-packages/ipykernel_launcher.py:7: SettingWithCopyWarning: \n",
      "A value is trying to be set on a copy of a slice from a DataFrame.\n",
      "Try using .loc[row_indexer,col_indexer] = value instead\n",
      "\n",
      "See the caveats in the documentation: http://pandas.pydata.org/pandas-docs/stable/indexing.html#indexing-view-versus-copy\n",
      "  import sys\n"
     ]
    },
    {
     "data": {
      "text/html": [
       "<div>\n",
       "<style scoped>\n",
       "    .dataframe tbody tr th:only-of-type {\n",
       "        vertical-align: middle;\n",
       "    }\n",
       "\n",
       "    .dataframe tbody tr th {\n",
       "        vertical-align: top;\n",
       "    }\n",
       "\n",
       "    .dataframe thead th {\n",
       "        text-align: right;\n",
       "    }\n",
       "</style>\n",
       "<table border=\"1\" class=\"dataframe\">\n",
       "  <thead>\n",
       "    <tr style=\"text-align: right;\">\n",
       "      <th></th>\n",
       "      <th>name</th>\n",
       "      <th>guard</th>\n",
       "      <th>forward</th>\n",
       "      <th>center</th>\n",
       "      <th>salary</th>\n",
       "      <th>group</th>\n",
       "    </tr>\n",
       "  </thead>\n",
       "  <tbody>\n",
       "    <tr>\n",
       "      <th>8</th>\n",
       "      <td>Justin Anderson</td>\n",
       "      <td>1</td>\n",
       "      <td>1</td>\n",
       "      <td>0</td>\n",
       "      <td>1.579440</td>\n",
       "      <td>1</td>\n",
       "    </tr>\n",
       "    <tr>\n",
       "      <th>49</th>\n",
       "      <td>Jimmy Butler</td>\n",
       "      <td>1</td>\n",
       "      <td>0</td>\n",
       "      <td>0</td>\n",
       "      <td>18.696918</td>\n",
       "      <td>1</td>\n",
       "    </tr>\n",
       "    <tr>\n",
       "      <th>157</th>\n",
       "      <td>Josh Huestis</td>\n",
       "      <td>1</td>\n",
       "      <td>0</td>\n",
       "      <td>0</td>\n",
       "      <td>1.471382</td>\n",
       "      <td>1</td>\n",
       "    </tr>\n",
       "    <tr>\n",
       "      <th>166</th>\n",
       "      <td>LeBron James</td>\n",
       "      <td>1</td>\n",
       "      <td>1</td>\n",
       "      <td>0</td>\n",
       "      <td>33.285709</td>\n",
       "      <td>1</td>\n",
       "    </tr>\n",
       "    <tr>\n",
       "      <th>174</th>\n",
       "      <td>Joe Johnson</td>\n",
       "      <td>1</td>\n",
       "      <td>1</td>\n",
       "      <td>0</td>\n",
       "      <td>10.254904</td>\n",
       "      <td>1</td>\n",
       "    </tr>\n",
       "    <tr>\n",
       "      <th>299</th>\n",
       "      <td>Wayne Selden</td>\n",
       "      <td>1</td>\n",
       "      <td>1</td>\n",
       "      <td>0</td>\n",
       "      <td>1.312611</td>\n",
       "      <td>1</td>\n",
       "    </tr>\n",
       "    <tr>\n",
       "      <th>303</th>\n",
       "      <td>Ben Simmons</td>\n",
       "      <td>1</td>\n",
       "      <td>1</td>\n",
       "      <td>0</td>\n",
       "      <td>6.168840</td>\n",
       "      <td>1</td>\n",
       "    </tr>\n",
       "    <tr>\n",
       "      <th>312</th>\n",
       "      <td>Lance Stephenson</td>\n",
       "      <td>1</td>\n",
       "      <td>0</td>\n",
       "      <td>0</td>\n",
       "      <td>4.180000</td>\n",
       "      <td>1</td>\n",
       "    </tr>\n",
       "  </tbody>\n",
       "</table>\n",
       "</div>"
      ],
      "text/plain": [
       "                 name  guard  forward  center     salary  group\n",
       "8     Justin Anderson      1        1       0   1.579440      1\n",
       "49       Jimmy Butler      1        0       0  18.696918      1\n",
       "157      Josh Huestis      1        0       0   1.471382      1\n",
       "166      LeBron James      1        1       0  33.285709      1\n",
       "174       Joe Johnson      1        1       0  10.254904      1\n",
       "299      Wayne Selden      1        1       0   1.312611      1\n",
       "303       Ben Simmons      1        1       0   6.168840      1\n",
       "312  Lance Stephenson      1        0       0   4.180000      1"
      ]
     },
     "execution_count": 11,
     "metadata": {},
     "output_type": "execute_result"
    }
   ],
   "source": [
    "x['group'] = labels\n",
    "\n",
    "df[\"salary\"] = round(df.salary.astype(pd.np.number))\n",
    "salaries = df.iloc[:,16].values\n",
    "x = df[[\"name\", \"guard\", \"forward\", \"center\"]]\n",
    "x['salary'] = salaries / 1e6\n",
    "x[\"group\"] = labels\n",
    "\n",
    "group1 = x.iloc[:,5]==1\n",
    "group1 = x.loc[group1,:]\n",
    "\n",
    "guards1 = group1.iloc[:,1]==1\n",
    "guards1 = group1.loc[guards1,:]\n",
    "\n",
    "guards1"
   ]
  },
  {
   "cell_type": "code",
   "execution_count": 14,
   "metadata": {},
   "outputs": [
    {
     "data": {
      "text/html": [
       "<div>\n",
       "<style scoped>\n",
       "    .dataframe tbody tr th:only-of-type {\n",
       "        vertical-align: middle;\n",
       "    }\n",
       "\n",
       "    .dataframe tbody tr th {\n",
       "        vertical-align: top;\n",
       "    }\n",
       "\n",
       "    .dataframe thead th {\n",
       "        text-align: right;\n",
       "    }\n",
       "</style>\n",
       "<table border=\"1\" class=\"dataframe\">\n",
       "  <thead>\n",
       "    <tr style=\"text-align: right;\">\n",
       "      <th></th>\n",
       "      <th>name</th>\n",
       "      <th>guard</th>\n",
       "      <th>forward</th>\n",
       "      <th>center</th>\n",
       "      <th>salary</th>\n",
       "      <th>group</th>\n",
       "    </tr>\n",
       "  </thead>\n",
       "  <tbody>\n",
       "    <tr>\n",
       "      <th>29</th>\n",
       "      <td>Davis Bertans</td>\n",
       "      <td>0</td>\n",
       "      <td>1</td>\n",
       "      <td>1</td>\n",
       "      <td>1.312611</td>\n",
       "      <td>0</td>\n",
       "    </tr>\n",
       "    <tr>\n",
       "      <th>190</th>\n",
       "      <td>Skal Labissiere</td>\n",
       "      <td>0</td>\n",
       "      <td>1</td>\n",
       "      <td>1</td>\n",
       "      <td>1.312611</td>\n",
       "      <td>0</td>\n",
       "    </tr>\n",
       "    <tr>\n",
       "      <th>192</th>\n",
       "      <td>Joffrey Lauvergne</td>\n",
       "      <td>0</td>\n",
       "      <td>0</td>\n",
       "      <td>1</td>\n",
       "      <td>1.524305</td>\n",
       "      <td>0</td>\n",
       "    </tr>\n",
       "    <tr>\n",
       "      <th>213</th>\n",
       "      <td>Thon Maker</td>\n",
       "      <td>0</td>\n",
       "      <td>1</td>\n",
       "      <td>1</td>\n",
       "      <td>3.086784</td>\n",
       "      <td>0</td>\n",
       "    </tr>\n",
       "    <tr>\n",
       "      <th>250</th>\n",
       "      <td>Lucas Nogueira</td>\n",
       "      <td>0</td>\n",
       "      <td>0</td>\n",
       "      <td>1</td>\n",
       "      <td>2.947304</td>\n",
       "      <td>0</td>\n",
       "    </tr>\n",
       "    <tr>\n",
       "      <th>350</th>\n",
       "      <td>Brandan Wright</td>\n",
       "      <td>0</td>\n",
       "      <td>1</td>\n",
       "      <td>1</td>\n",
       "      <td>5.955760</td>\n",
       "      <td>0</td>\n",
       "    </tr>\n",
       "  </tbody>\n",
       "</table>\n",
       "</div>"
      ],
      "text/plain": [
       "                  name  guard  forward  center    salary  group\n",
       "29       Davis Bertans      0        1       1  1.312611      0\n",
       "190    Skal Labissiere      0        1       1  1.312611      0\n",
       "192  Joffrey Lauvergne      0        0       1  1.524305      0\n",
       "213         Thon Maker      0        1       1  3.086784      0\n",
       "250     Lucas Nogueira      0        0       1  2.947304      0\n",
       "350     Brandan Wright      0        1       1  5.955760      0"
      ]
     },
     "execution_count": 14,
     "metadata": {},
     "output_type": "execute_result"
    }
   ],
   "source": [
    "group0 = x.iloc[:,5]==0\n",
    "group0 = x.loc[group0,:]\n",
    "\n",
    "centers0 = group0.iloc[:,3]==1\n",
    "centers0 = group0.loc[centers0,:]\n",
    "\n",
    "centers0"
   ]
  },
  {
   "cell_type": "code",
   "execution_count": 12,
   "metadata": {},
   "outputs": [
    {
     "data": {
      "text/html": [
       "<div>\n",
       "<style scoped>\n",
       "    .dataframe tbody tr th:only-of-type {\n",
       "        vertical-align: middle;\n",
       "    }\n",
       "\n",
       "    .dataframe tbody tr th {\n",
       "        vertical-align: top;\n",
       "    }\n",
       "\n",
       "    .dataframe thead th {\n",
       "        text-align: right;\n",
       "    }\n",
       "</style>\n",
       "<table border=\"1\" class=\"dataframe\">\n",
       "  <thead>\n",
       "    <tr style=\"text-align: right;\">\n",
       "      <th></th>\n",
       "      <th>group</th>\n",
       "      <th>guard</th>\n",
       "      <th>forward</th>\n",
       "      <th>center</th>\n",
       "      <th>salary</th>\n",
       "    </tr>\n",
       "  </thead>\n",
       "  <tbody>\n",
       "    <tr>\n",
       "      <th>0</th>\n",
       "      <td>0</td>\n",
       "      <td>131</td>\n",
       "      <td>70</td>\n",
       "      <td>6</td>\n",
       "      <td>8.080828</td>\n",
       "    </tr>\n",
       "    <tr>\n",
       "      <th>1</th>\n",
       "      <td>1</td>\n",
       "      <td>8</td>\n",
       "      <td>75</td>\n",
       "      <td>68</td>\n",
       "      <td>9.942495</td>\n",
       "    </tr>\n",
       "  </tbody>\n",
       "</table>\n",
       "</div>"
      ],
      "text/plain": [
       "   group  guard  forward  center    salary\n",
       "0      0    131       70       6  8.080828\n",
       "1      1      8       75      68  9.942495"
      ]
     },
     "execution_count": 12,
     "metadata": {},
     "output_type": "execute_result"
    }
   ],
   "source": [
    "df_groups = x.groupby('group', as_index=False)['guard', 'forward', 'center'].sum()\n",
    "df_group_salary = x.groupby('group', as_index=False)['salary'].mean()\n",
    "df_groups = pd.merge(df_groups, df_group_salary, how='inner')\n",
    "df_groups"
   ]
  }
 ],
 "metadata": {
  "kernelspec": {
   "display_name": "Python 3",
   "language": "python",
   "name": "python3"
  },
  "language_info": {
   "codemirror_mode": {
    "name": "ipython",
    "version": 3
   },
   "file_extension": ".py",
   "mimetype": "text/x-python",
   "name": "python",
   "nbconvert_exporter": "python",
   "pygments_lexer": "ipython3",
   "version": "3.6.2"
  }
 },
 "nbformat": 4,
 "nbformat_minor": 2
}
