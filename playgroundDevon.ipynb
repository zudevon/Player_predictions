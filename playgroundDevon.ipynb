{
 "cells": [
  {
   "cell_type": "code",
   "execution_count": 2,
   "metadata": {},
   "outputs": [],
   "source": [
    "# \n",
    "import pandas as pd\n",
    "\n",
    "df = pd.read_csv('./csvData/NBA_Shot_dist - Sheet2.csv')"
   ]
  },
  {
   "cell_type": "markdown",
   "metadata": {},
   "source": [
    "# Change column names"
   ]
  },
  {
   "cell_type": "code",
   "execution_count": null,
   "metadata": {},
   "outputs": [],
   "source": [
    "df.columns = ['name', 'team', 'szn', 'type', 'games', '0to8_makePrecent', '8to16_makePrecent', '16to24_makePrecent', '24plus_makePrecent', 'bcMake', '0to8_att', '8to16_att', '16to24_att', '24plus_att', 'bc_att', 'avgDist', 'avgMakeDist', 'avgMissDist']"
   ]
  },
  {
   "cell_type": "markdown",
   "metadata": {},
   "source": [
    "# Delete irrelevant columns"
   ]
  },
  {
   "cell_type": "code",
   "execution_count": null,
   "metadata": {},
   "outputs": [],
   "source": [
    "del df['type']\n",
    "del df['szn']\n",
    "del df['bcMake']"
   ]
  },
  {
   "cell_type": "code",
   "execution_count": 2,
   "metadata": {},
   "outputs": [
    {
     "ename": "NameError",
     "evalue": "name 'df' is not defined",
     "output_type": "error",
     "traceback": [
      "\u001b[0;31m---------------------------------------------------------------------------\u001b[0m",
      "\u001b[0;31mNameError\u001b[0m                                 Traceback (most recent call last)",
      "\u001b[0;32m<ipython-input-2-773d2db28695>\u001b[0m in \u001b[0;36m<module>\u001b[0;34m()\u001b[0m\n\u001b[0;32m----> 1\u001b[0;31m \u001b[0mdf\u001b[0m \u001b[0;34m=\u001b[0m \u001b[0mdf\u001b[0m\u001b[0;34m.\u001b[0m\u001b[0msort_values\u001b[0m\u001b[0;34m(\u001b[0m\u001b[0;34m'name'\u001b[0m\u001b[0;34m)\u001b[0m\u001b[0;34m\u001b[0m\u001b[0m\n\u001b[0m",
      "\u001b[0;31mNameError\u001b[0m: name 'df' is not defined"
     ]
    }
   ],
   "source": [
    "df = df.sort_values('name')"
   ]
  },
  {
   "cell_type": "markdown",
   "metadata": {},
   "source": [
    "# Bring in Salary Data\n",
    "\n",
    "*  Delete all columns except name and salary\n",
    "*  Rename two columns 'name' and 'salary'"
   ]
  },
  {
   "cell_type": "code",
   "execution_count": 5,
   "metadata": {},
   "outputs": [],
   "source": [
    "salary_df = pd.read_csv('playerSalaries.csv')"
   ]
  },
  {
   "cell_type": "code",
   "execution_count": 6,
   "metadata": {},
   "outputs": [],
   "source": [
    "del salary_df['Unnamed: 0']\n",
    "del salary_df['2018/19']\n",
    "del salary_df['2019/20']\n",
    "del salary_df['2020/21']\n",
    "del salary_df['2021/22']\n",
    "\n",
    "salary_df.columns = ['name', 'salary']"
   ]
  },
  {
   "cell_type": "markdown",
   "metadata": {},
   "source": [
    "# Sort Salary Data"
   ]
  },
  {
   "cell_type": "code",
   "execution_count": 7,
   "metadata": {},
   "outputs": [],
   "source": [
    "salary_df = salary_df.sort_values('name')"
   ]
  },
  {
   "cell_type": "markdown",
   "metadata": {},
   "source": [
    "# Merge Data sets \n",
    "##### How? ...... inner\n"
   ]
  },
  {
   "cell_type": "code",
   "execution_count": 8,
   "metadata": {},
   "outputs": [],
   "source": [
    "df = pd.merge(df, salary_df, how='inner')"
   ]
  },
  {
   "cell_type": "markdown",
   "metadata": {},
   "source": [
    "# Get X,y \n",
    "\n",
    "* get rid of specail characters '$', and ','"
   ]
  },
  {
   "cell_type": "code",
   "execution_count": 9,
   "metadata": {},
   "outputs": [],
   "source": [
    "import numpy as np\n",
    "\n",
    "for col in df.select_dtypes([np.object]):\n",
    "    df[col] = df[col].str.lstrip('$')\n",
    "    \n",
    "\n",
    "\n",
    "df = df.replace(regex={'$':'', ',':''})\n",
    "\n",
    "df = df.loc[df['games'] >= 26]"
   ]
  },
  {
   "cell_type": "markdown",
   "metadata": {},
   "source": [
    "# add more data\n",
    "* def_stats\n",
    "    * defensive win share\n",
    "* gen_stats\n",
    "    * age\n",
    "    * minutes played avg\n",
    "    * points per game\n",
    "    * "
   ]
  },
  {
   "cell_type": "code",
   "execution_count": 10,
   "metadata": {},
   "outputs": [],
   "source": [
    "def_ws = pd.read_csv('NBA_Shot_dist - def_stats.csv')\n",
    "\n",
    "def_ws = def_ws.iloc[:, [0,19]]\n",
    "\n",
    "def_ws.columns = ['name', 'def_ws']\n",
    "\n",
    "#------------------\n",
    "\n",
    "def_gen = pd.read_csv('NBA_Shot_dist - gen_stats.csv')\n",
    "def_gen = def_gen.iloc[:, [0,2,6,7,14,15,16,19,20,21,22,23,24,28]]\n",
    "def_gen.columns = ['name','age','min','pts','ftm','fta','ftp','reb','ast','tov','stl','blk','pf','pm']"
   ]
  },
  {
   "cell_type": "markdown",
   "metadata": {},
   "source": [
    "# Merge with main DF"
   ]
  },
  {
   "cell_type": "code",
   "execution_count": 11,
   "metadata": {},
   "outputs": [],
   "source": [
    "df = pd.merge(df, def_ws, how='inner')\n",
    "df = pd.merge(df, def_gen, how='inner')"
   ]
  },
  {
   "cell_type": "markdown",
   "metadata": {},
   "source": [
    "# Delete certain columns"
   ]
  },
  {
   "cell_type": "code",
   "execution_count": 12,
   "metadata": {},
   "outputs": [],
   "source": [
    "del df['0to8_att']\n",
    "del df['8to16_att']\n",
    "del df['16to24_att']\n",
    "del df['24plus_att']\n",
    "del df['avgMissDist']\n",
    "del df['avgDist']\n",
    "del df['bc_att']"
   ]
  },
  {
   "cell_type": "markdown",
   "metadata": {},
   "source": [
    "# Get X, y as dataframes\n",
    "* make salary your 'y'\n",
    "* remove salary out of the middle of the df\n",
    "* make 'x' data frame"
   ]
  },
  {
   "cell_type": "code",
   "execution_count": 13,
   "metadata": {},
   "outputs": [],
   "source": [
    "y = df.iloc[:, 8]\n",
    "del df['salary']\n",
    "X = df.iloc[:, 2:23]"
   ]
  },
  {
   "cell_type": "markdown",
   "metadata": {},
   "source": [
    "# Turn Y into an intger"
   ]
  },
  {
   "cell_type": "code",
   "execution_count": 14,
   "metadata": {},
   "outputs": [],
   "source": [
    "y = y.astype('int')\n"
   ]
  },
  {
   "cell_type": "markdown",
   "metadata": {},
   "source": [
    "# Normalization && Tuning \n",
    "\n",
    "* squre (^2) avgMakeDist col"
   ]
  },
  {
   "cell_type": "code",
   "execution_count": null,
   "metadata": {},
   "outputs": [],
   "source": []
  },
  {
   "cell_type": "markdown",
   "metadata": {},
   "source": [
    "# Train/Test split 70/30"
   ]
  },
  {
   "cell_type": "code",
   "execution_count": 15,
   "metadata": {},
   "outputs": [],
   "source": [
    "from sklearn.model_selection import train_test_split\n",
    "\n",
    "X_train, X_test, y_train, y_test = train_test_split(X, y, test_size=.3)"
   ]
  },
  {
   "cell_type": "markdown",
   "metadata": {},
   "source": [
    "# First Run w/ Random Forest Classifer"
   ]
  },
  {
   "cell_type": "code",
   "execution_count": 17,
   "metadata": {},
   "outputs": [
    {
     "name": "stdout",
     "output_type": "stream",
     "text": [
      "0.0673076923076923  -- Accuracy with Random Forests\n",
      "\n",
      "-------------- Importances per column with RF\n",
      "[0.05044319 0.05491385 0.05317709 0.05122454 0.04890959 0.05335486\n",
      " 0.05022871 0.05690085 0.05282702 0.05029502 0.04224432 0.04342287\n",
      " 0.05187173 0.05433081 0.04956383 0.0459346  0.0431036  0.04327643\n",
      " 0.04836301 0.05561408] \n",
      "\n"
     ]
    }
   ],
   "source": [
    "from sklearn.ensemble import RandomForestClassifier, GradientBoostingClassifier\n",
    "from sklearn import metrics\n",
    "\n",
    "\"\"\" RANDOM FOREST PREDICTION \"\"\"\n",
    "# X, y = make_classification(n_samples=100, n_features=5, n_informative=5, n_redundant=0, random_state=0, shuffle=False)\n",
    "clf = RandomForestClassifier(n_estimators=120, max_depth=25, random_state=0)\n",
    "clf.fit(X_train, y_train)\n",
    "y_pred = clf.predict(X_test)\n",
    "\n",
    "print(metrics.accuracy_score(y_test, y_pred), \" -- Accuracy with Random Forests\\n\")\n",
    "print(\"-------------- Importances per column with RF\")\n",
    "print((clf.feature_importances_), \"\\n\")\n",
    "\n"
   ]
  },
  {
   "cell_type": "markdown",
   "metadata": {},
   "source": [
    "# Predictions"
   ]
  },
  {
   "cell_type": "code",
   "execution_count": 18,
   "metadata": {},
   "outputs": [],
   "source": [
    "#print(clf.predict([[]]))"
   ]
  },
  {
   "cell_type": "code",
   "execution_count": null,
   "metadata": {},
   "outputs": [],
   "source": []
  }
 ],
 "metadata": {
  "kernelspec": {
   "display_name": "Python 3",
   "language": "python",
   "name": "python3"
  },
  "language_info": {
   "codemirror_mode": {
    "name": "ipython",
    "version": 3
   },
   "file_extension": ".py",
   "mimetype": "text/x-python",
   "name": "python",
   "nbconvert_exporter": "python",
   "pygments_lexer": "ipython3",
   "version": "3.6.4"
  }
 },
 "nbformat": 4,
 "nbformat_minor": 2
}
